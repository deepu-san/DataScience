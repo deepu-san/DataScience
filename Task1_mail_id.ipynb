{
  "nbformat": 4,
  "nbformat_minor": 0,
  "metadata": {
    "colab": {
      "name": "Task1: mail_id and pswrd.ipynb",
      "provenance": []
    },
    "kernelspec": {
      "name": "python3",
      "display_name": "Python 3"
    },
    "language_info": {
      "name": "python"
    }
  },
  "cells": [
    {
      "cell_type": "markdown",
      "source": [
        ""
      ],
      "metadata": {
        "id": "nGDIgDBiMEkL"
      }
    },
    {
      "cell_type": "code",
      "source": [
        "dic1={\"abi@yh.in\":\"Abi@123\"}\n",
        "with open(\"book.json\",\"w\") as f:\n",
        "        json.dump(dic1,f)"
      ],
      "metadata": {
        "id": "T9YH7BPtLrQh"
      },
      "execution_count": 6,
      "outputs": []
    },
    {
      "cell_type": "code",
      "source": [
        "import json\n",
        "\n",
        "#Username Check-----------------------------------------------------------------\n",
        "def checkusrname(usr): \n",
        "    if not \"@\" in usr :\n",
        "        print(\"Invalid Username. Email/username should have '@' and followed by '.'\")\n",
        "        return False \n",
        "    k=usr.index(\"@\")\n",
        "    if not \".\" in usr  :\n",
        "        print(\"Invalid Username. Email/username should have '@' and followed by '.'\")\n",
        "        return False\n",
        "\n",
        "    if(usr[k:].count(\".\")==0):\n",
        "        print(\"Invalid Username.  Email/username should have '@' and followed by '.'\")\n",
        "        return False\n",
        "\n",
        "    if usr[0].isalpha() != True :\n",
        "        print(\"Invalid Username.It should not start with special characters and numbers.\")\n",
        "        return False\n",
        "\n",
        "    if(usr[k:].index(\".\")==1):\n",
        "        print(\"Invalid Username. There should not be any '.' immediate next to '@'.\")\n",
        "        return False\n",
        "\n",
        "    else: return True    \n",
        "\n",
        "#Password Check-----------------------------------------------------------------\n",
        "\n",
        "def checkpswrd(psw):\n",
        "    special=[\"!\",\"@\",\"#\",\"$\",\"%\",\"^\",\"&\",\"*\",\"_\",\"?\"]\n",
        "\n",
        "    if (len(psw)<6 or len(psw)>15):\n",
        "        print(\"Invalid Password. 5 < password length < 16.\")\n",
        "        return False\n",
        "\n",
        "    if not any(char in special for char in psw):\n",
        "        print(\"Invalid Password. Must have minimum one special character.\")\n",
        "        return False\n",
        "\n",
        "    if not any(char.isdigit() for char in psw):\n",
        "        print(\"Invalid Password. Must have one digit.\")\n",
        "        return False\n",
        "\n",
        "    if not any(char.isupper() for char in psw):\n",
        "        print(\"Invalid Password.Must have one uppercase character.\")\n",
        "        return False\n",
        "\n",
        "    if not any(char.islower() for char in psw):\n",
        "        print(\"Invalid Password. Must have one lowercase character.\")\n",
        "        return False\n",
        "\n",
        "    else: return True\n",
        "#-----------------------------------------------------------------------------\n",
        "def register():\n",
        "\n",
        "    print(\"Enter Username and Password following the guidelines given:\")\n",
        "    print('''\\t For Username: \\n\n",
        "          \\t1. Email/username should have \"@\" and followed by \".\"\\n\n",
        "          \\t2. It should not start with special characters and numbers.\\n\n",
        "          \\t3. There should not be any \".\" immediate next to \"@\".\\n\n",
        "          For Password: \\n\n",
        "          \\t4. 5 < password length > 16.\\n\n",
        "          \\t5. Must have minimum one special character.\\n\n",
        "          \\t6. Must have one digit.\\n\n",
        "          \\t7. Must have one uppercase character. \\n \n",
        "          \\t8. Must have one lowercase character. ''')\n",
        "    \n",
        "    usr=input(\"Enter Username :\")\n",
        "    '''with open(\"book.json\",\"w+\") as f:\n",
        "        data=json.load(f)\n",
        "    if usr in data.keys(): print(\"Existing Username\")\n",
        "    else:'''\n",
        "    \n",
        "    while 1:\n",
        "        if checkusrname(usr): break\n",
        "        else: usr=input(\"Enter new Username:\") \n",
        "    psw=input(\"Enter Password :\")  \n",
        "    while 1:\n",
        "        if checkpswrd(psw): break\n",
        "        else: usr=input(\"Enter new Password :\")\n",
        "    print(\"Registration Succesfull\")\n",
        "\n",
        "    with open(\"book.json\",\"r\") as f:\n",
        "        data=json.load(f)\n",
        "    data[usr]=psw\n",
        "    with open(\"book.json\",\"w\") as f:\n",
        "        (json.dump(data,f))\n",
        "    f.close()\n",
        "#-------------------------------------------------------------------------------\n",
        "def login():    \n",
        "    with open(\"book.json\",\"r\") as f:\n",
        "        data=json.load(f)\n",
        "    #print(data) \n",
        "    usr=input(\"Enter Username:\")\n",
        "    if usr not in data.keys():\n",
        "        print(\"Username Doesn't exist. Do you wish to Register ?\\n Press :\\n\\t1. To Register\\n\\t2. To Exit\")\n",
        "        in3=int(input())\n",
        "        if in3==1 : register()  \n",
        "        if in3==2 : print(\"Have a Good Day\")    \n",
        "    else:\n",
        "        print(\"Press:\\n1. To enter password.\\n2. If you forgot Your Password \")\n",
        "        in2=int(input())\n",
        "        if in2==1: pswrdtry(usr)\n",
        "        if in2==2: displaypswrd(usr)\n",
        "#-------------------------------------------------------------------------------\n",
        "def pswrdtry(usr):\n",
        "     while 1:\n",
        "         pswrd=input(\"Enter Password:\")\n",
        "         with open(\"book.json\",\"r\") as f:\n",
        "            data=json.load(f)\n",
        "         if data[usr]==pswrd:\n",
        "            print(\"Login Succesfull\")\n",
        "            break\n",
        "         else:\n",
        "            print(\"Wrong Password. Press:\\n\\t1. To Try Again.\\n\\t2. If you forgot your Password\")\n",
        "            in4=int(input())\n",
        "            if in4==1 :  pswrdtry(usr)    \n",
        "            if in4==2 :  displaypswrd(usr)\n",
        "#-------------------------------------------------------------------------------        \n",
        "def displaypswrd(usr):\n",
        "     with open(\"book.json\",\"r\") as f:\n",
        "        data=json.load(f)\n",
        "     print(\"Your Password is :\",data[usr]) \n",
        "#-------------------------------------------------------------------------------\n",
        "\n",
        "inp= int(input(\"What do you wish to do : \\n1. Register\\n2. Login\\n\"))\n",
        "\n",
        "if(inp==1):register() \n",
        "elif(inp==2):login()\n",
        "else:print(\"Invalid Entry\")\n",
        "    \n",
        "    "
      ],
      "metadata": {
        "colab": {
          "base_uri": "https://localhost:8080/"
        },
        "id": "XDh03_jdxR_y",
        "outputId": "01963a5d-e05d-4f4a-8233-f42240f83f63"
      },
      "execution_count": 17,
      "outputs": [
        {
          "output_type": "stream",
          "name": "stdout",
          "text": [
            "What do you wish to do : \n",
            "1. Register\n",
            "2. Login\n",
            "2\n",
            "Enter Username:sou@yh.in\n",
            "Press:\n",
            "1. To enter password.\n",
            "2. If you forgot Your Password \n",
            "2\n",
            "Your Password is : Sou@123\n"
          ]
        }
      ]
    },
    {
      "cell_type": "code",
      "source": [
        "\n"
      ],
      "metadata": {
        "id": "CMstFulU3kQM"
      },
      "execution_count": null,
      "outputs": []
    }
  ]
}