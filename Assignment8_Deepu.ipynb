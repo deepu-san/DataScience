{
  "cells": [
    {
      "cell_type": "markdown",
      "metadata": {
        "id": "view-in-github",
        "colab_type": "text"
      },
      "source": [
        "<a href=\"https://colab.research.google.com/github/deepu-san/DataScience/blob/main/Assignment8_Deepu.ipynb\" target=\"_parent\"><img src=\"https://colab.research.google.com/assets/colab-badge.svg\" alt=\"Open In Colab\"/></a>"
      ]
    },
    {
      "cell_type": "markdown",
      "metadata": {
        "id": "QTChe4LuDCCa"
      },
      "source": [
        "# Assignment8"
      ]
    },
    {
      "cell_type": "code",
      "execution_count": 1,
      "metadata": {
        "collapsed": true,
        "id": "QqVyMbmDDCCg"
      },
      "outputs": [],
      "source": [
        "import pandas as pd\n",
        "import matplotlib.pyplot as plt\n",
        "import numpy as np\n",
        "from sklearn.linear_model import LinearRegression \n",
        "from sklearn.model_selection import train_test_split \n",
        "from sklearn import metrics \n",
        "from sklearn.model_selection import cross_val_score\n"
      ]
    },
    {
      "cell_type": "markdown",
      "metadata": {
        "id": "oCJWTXFiDCCi"
      },
      "source": [
        "# How Much is Your Car Worth?\n",
        "\n",
        "Data about the retail price of 2005 General Motors cars can be found in `car_data.csv`.\n",
        "\n",
        "The columns are:\n",
        "\n",
        "1. Price: suggested retail price of the used 2005 GM car in excellent condition.\n",
        "2. Mileage: number of miles the car has been driven\n",
        "3. Make: manufacturer of the car such as Saturn, Pontiac, and Chevrolet\n",
        "4. Model: specific models for each car manufacturer such as Ion, Vibe, Cavalier\n",
        "5. Trim (of car): specific type of car model such as SE Sedan 4D, Quad Coupe 2D          \n",
        "6. Type: body type such as sedan, coupe, etc.      \n",
        "7. Cylinder: number of cylinders in the engine        \n",
        "8. Liter: a more specific measure of engine size     \n",
        "9. Doors: number of doors           \n",
        "10. Cruise: indicator variable representing whether the car has cruise control (1 = cruise)\n",
        "11. Sound: indicator variable representing whether the car has upgraded speakers (1 = upgraded)\n",
        "12. Leather: indicator variable representing whether the car has leather seats (1 = leather)\n",
        "\n",
        "## Tasks, Part 1\n",
        "\n",
        "1. Find the linear regression equation for mileage vs price.\n",
        "2. Chart the original data and the equation on the chart.\n",
        "3. Find the equation's $R^2$ score (use the `.score` method) to determine whether the\n",
        "equation is a good fit for this data. (0.8 and greater is considered a strong correlation.)\n",
        "\n",
        "## Tasks, Part 2\n",
        "\n",
        "1. Use mileage, cylinders, liters, doors, cruise, sound, and leather to find the linear regression equation.\n",
        "2. Find the equation's $R^2$ score (use the `.score` method) to determine whether the\n",
        "equation is a good fit for this data. (0.8 and greater is considered a strong correlation.)\n",
        "3. Find the combination of the factors that is the best predictor for price.\n",
        "\n",
        "## Tasks, Hard Mode\n",
        "\n",
        "1. Research dummy variables in scikit-learn to see how to use the make, model, and body type.\n",
        "2. Find the best combination of factors to predict price."
      ]
    },
    {
      "cell_type": "code",
      "execution_count": 3,
      "metadata": {
        "id": "cH21VDM1DCCk"
      },
      "outputs": [],
      "source": [
        "df = pd.read_csv(\"car_data.csv\")"
      ]
    },
    {
      "cell_type": "code",
      "execution_count": null,
      "metadata": {
        "colab": {
          "base_uri": "https://localhost:8080/"
        },
        "id": "2fMs0IiOT1r0",
        "outputId": "e088d3db-f347-44cf-ced8-c4142478e489"
      },
      "outputs": [
        {
          "data": {
            "text/plain": [
              "(804, 12)"
            ]
          },
          "execution_count": 3,
          "metadata": {},
          "output_type": "execute_result"
        }
      ],
      "source": [
        "df.shape"
      ]
    },
    {
      "cell_type": "code",
      "execution_count": null,
      "metadata": {
        "colab": {
          "base_uri": "https://localhost:8080/",
          "height": 344
        },
        "id": "bcBYyIkXETs5",
        "outputId": "051ea420-a935-4dfe-a07d-7cda05cc688c"
      },
      "outputs": [
        {
          "data": {
            "text/html": [
              "\n",
              "  <div id=\"df-ac23ae1c-6c26-47b0-9053-eb95c2c82453\">\n",
              "    <div class=\"colab-df-container\">\n",
              "      <div>\n",
              "<style scoped>\n",
              "    .dataframe tbody tr th:only-of-type {\n",
              "        vertical-align: middle;\n",
              "    }\n",
              "\n",
              "    .dataframe tbody tr th {\n",
              "        vertical-align: top;\n",
              "    }\n",
              "\n",
              "    .dataframe thead th {\n",
              "        text-align: right;\n",
              "    }\n",
              "</style>\n",
              "<table border=\"1\" class=\"dataframe\">\n",
              "  <thead>\n",
              "    <tr style=\"text-align: right;\">\n",
              "      <th></th>\n",
              "      <th>Price</th>\n",
              "      <th>Mileage</th>\n",
              "      <th>Cylinder</th>\n",
              "      <th>Liter</th>\n",
              "      <th>Doors</th>\n",
              "      <th>Cruise</th>\n",
              "      <th>Sound</th>\n",
              "      <th>Leather</th>\n",
              "    </tr>\n",
              "  </thead>\n",
              "  <tbody>\n",
              "    <tr>\n",
              "      <th>count</th>\n",
              "      <td>804.000000</td>\n",
              "      <td>804.000000</td>\n",
              "      <td>804.000000</td>\n",
              "      <td>804.000000</td>\n",
              "      <td>804.000000</td>\n",
              "      <td>804.000000</td>\n",
              "      <td>804.000000</td>\n",
              "      <td>804.000000</td>\n",
              "    </tr>\n",
              "    <tr>\n",
              "      <th>mean</th>\n",
              "      <td>21343.143767</td>\n",
              "      <td>19831.934080</td>\n",
              "      <td>5.268657</td>\n",
              "      <td>3.037313</td>\n",
              "      <td>3.527363</td>\n",
              "      <td>0.752488</td>\n",
              "      <td>0.679104</td>\n",
              "      <td>0.723881</td>\n",
              "    </tr>\n",
              "    <tr>\n",
              "      <th>std</th>\n",
              "      <td>9884.852801</td>\n",
              "      <td>8196.319707</td>\n",
              "      <td>1.387531</td>\n",
              "      <td>1.105562</td>\n",
              "      <td>0.850169</td>\n",
              "      <td>0.431836</td>\n",
              "      <td>0.467111</td>\n",
              "      <td>0.447355</td>\n",
              "    </tr>\n",
              "    <tr>\n",
              "      <th>min</th>\n",
              "      <td>8638.930895</td>\n",
              "      <td>266.000000</td>\n",
              "      <td>4.000000</td>\n",
              "      <td>1.600000</td>\n",
              "      <td>2.000000</td>\n",
              "      <td>0.000000</td>\n",
              "      <td>0.000000</td>\n",
              "      <td>0.000000</td>\n",
              "    </tr>\n",
              "    <tr>\n",
              "      <th>25%</th>\n",
              "      <td>14273.073870</td>\n",
              "      <td>14623.500000</td>\n",
              "      <td>4.000000</td>\n",
              "      <td>2.200000</td>\n",
              "      <td>4.000000</td>\n",
              "      <td>1.000000</td>\n",
              "      <td>0.000000</td>\n",
              "      <td>0.000000</td>\n",
              "    </tr>\n",
              "    <tr>\n",
              "      <th>50%</th>\n",
              "      <td>18024.995019</td>\n",
              "      <td>20913.500000</td>\n",
              "      <td>6.000000</td>\n",
              "      <td>2.800000</td>\n",
              "      <td>4.000000</td>\n",
              "      <td>1.000000</td>\n",
              "      <td>1.000000</td>\n",
              "      <td>1.000000</td>\n",
              "    </tr>\n",
              "    <tr>\n",
              "      <th>75%</th>\n",
              "      <td>26717.316636</td>\n",
              "      <td>25213.000000</td>\n",
              "      <td>6.000000</td>\n",
              "      <td>3.800000</td>\n",
              "      <td>4.000000</td>\n",
              "      <td>1.000000</td>\n",
              "      <td>1.000000</td>\n",
              "      <td>1.000000</td>\n",
              "    </tr>\n",
              "    <tr>\n",
              "      <th>max</th>\n",
              "      <td>70755.466717</td>\n",
              "      <td>50387.000000</td>\n",
              "      <td>8.000000</td>\n",
              "      <td>6.000000</td>\n",
              "      <td>4.000000</td>\n",
              "      <td>1.000000</td>\n",
              "      <td>1.000000</td>\n",
              "      <td>1.000000</td>\n",
              "    </tr>\n",
              "  </tbody>\n",
              "</table>\n",
              "</div>\n",
              "      <button class=\"colab-df-convert\" onclick=\"convertToInteractive('df-ac23ae1c-6c26-47b0-9053-eb95c2c82453')\"\n",
              "              title=\"Convert this dataframe to an interactive table.\"\n",
              "              style=\"display:none;\">\n",
              "        \n",
              "  <svg xmlns=\"http://www.w3.org/2000/svg\" height=\"24px\"viewBox=\"0 0 24 24\"\n",
              "       width=\"24px\">\n",
              "    <path d=\"M0 0h24v24H0V0z\" fill=\"none\"/>\n",
              "    <path d=\"M18.56 5.44l.94 2.06.94-2.06 2.06-.94-2.06-.94-.94-2.06-.94 2.06-2.06.94zm-11 1L8.5 8.5l.94-2.06 2.06-.94-2.06-.94L8.5 2.5l-.94 2.06-2.06.94zm10 10l.94 2.06.94-2.06 2.06-.94-2.06-.94-.94-2.06-.94 2.06-2.06.94z\"/><path d=\"M17.41 7.96l-1.37-1.37c-.4-.4-.92-.59-1.43-.59-.52 0-1.04.2-1.43.59L10.3 9.45l-7.72 7.72c-.78.78-.78 2.05 0 2.83L4 21.41c.39.39.9.59 1.41.59.51 0 1.02-.2 1.41-.59l7.78-7.78 2.81-2.81c.8-.78.8-2.07 0-2.86zM5.41 20L4 18.59l7.72-7.72 1.47 1.35L5.41 20z\"/>\n",
              "  </svg>\n",
              "      </button>\n",
              "      \n",
              "  <style>\n",
              "    .colab-df-container {\n",
              "      display:flex;\n",
              "      flex-wrap:wrap;\n",
              "      gap: 12px;\n",
              "    }\n",
              "\n",
              "    .colab-df-convert {\n",
              "      background-color: #E8F0FE;\n",
              "      border: none;\n",
              "      border-radius: 50%;\n",
              "      cursor: pointer;\n",
              "      display: none;\n",
              "      fill: #1967D2;\n",
              "      height: 32px;\n",
              "      padding: 0 0 0 0;\n",
              "      width: 32px;\n",
              "    }\n",
              "\n",
              "    .colab-df-convert:hover {\n",
              "      background-color: #E2EBFA;\n",
              "      box-shadow: 0px 1px 2px rgba(60, 64, 67, 0.3), 0px 1px 3px 1px rgba(60, 64, 67, 0.15);\n",
              "      fill: #174EA6;\n",
              "    }\n",
              "\n",
              "    [theme=dark] .colab-df-convert {\n",
              "      background-color: #3B4455;\n",
              "      fill: #D2E3FC;\n",
              "    }\n",
              "\n",
              "    [theme=dark] .colab-df-convert:hover {\n",
              "      background-color: #434B5C;\n",
              "      box-shadow: 0px 1px 3px 1px rgba(0, 0, 0, 0.15);\n",
              "      filter: drop-shadow(0px 1px 2px rgba(0, 0, 0, 0.3));\n",
              "      fill: #FFFFFF;\n",
              "    }\n",
              "  </style>\n",
              "\n",
              "      <script>\n",
              "        const buttonEl =\n",
              "          document.querySelector('#df-ac23ae1c-6c26-47b0-9053-eb95c2c82453 button.colab-df-convert');\n",
              "        buttonEl.style.display =\n",
              "          google.colab.kernel.accessAllowed ? 'block' : 'none';\n",
              "\n",
              "        async function convertToInteractive(key) {\n",
              "          const element = document.querySelector('#df-ac23ae1c-6c26-47b0-9053-eb95c2c82453');\n",
              "          const dataTable =\n",
              "            await google.colab.kernel.invokeFunction('convertToInteractive',\n",
              "                                                     [key], {});\n",
              "          if (!dataTable) return;\n",
              "\n",
              "          const docLinkHtml = 'Like what you see? Visit the ' +\n",
              "            '<a target=\"_blank\" href=https://colab.research.google.com/notebooks/data_table.ipynb>data table notebook</a>'\n",
              "            + ' to learn more about interactive tables.';\n",
              "          element.innerHTML = '';\n",
              "          dataTable['output_type'] = 'display_data';\n",
              "          await google.colab.output.renderOutput(dataTable, element);\n",
              "          const docLink = document.createElement('div');\n",
              "          docLink.innerHTML = docLinkHtml;\n",
              "          element.appendChild(docLink);\n",
              "        }\n",
              "      </script>\n",
              "    </div>\n",
              "  </div>\n",
              "  "
            ],
            "text/plain": [
              "              Price       Mileage    Cylinder       Liter       Doors  \\\n",
              "count    804.000000    804.000000  804.000000  804.000000  804.000000   \n",
              "mean   21343.143767  19831.934080    5.268657    3.037313    3.527363   \n",
              "std     9884.852801   8196.319707    1.387531    1.105562    0.850169   \n",
              "min     8638.930895    266.000000    4.000000    1.600000    2.000000   \n",
              "25%    14273.073870  14623.500000    4.000000    2.200000    4.000000   \n",
              "50%    18024.995019  20913.500000    6.000000    2.800000    4.000000   \n",
              "75%    26717.316636  25213.000000    6.000000    3.800000    4.000000   \n",
              "max    70755.466717  50387.000000    8.000000    6.000000    4.000000   \n",
              "\n",
              "           Cruise       Sound     Leather  \n",
              "count  804.000000  804.000000  804.000000  \n",
              "mean     0.752488    0.679104    0.723881  \n",
              "std      0.431836    0.467111    0.447355  \n",
              "min      0.000000    0.000000    0.000000  \n",
              "25%      1.000000    0.000000    0.000000  \n",
              "50%      1.000000    1.000000    1.000000  \n",
              "75%      1.000000    1.000000    1.000000  \n",
              "max      1.000000    1.000000    1.000000  "
            ]
          },
          "execution_count": 5,
          "metadata": {},
          "output_type": "execute_result"
        }
      ],
      "source": [
        "df.describe()"
      ]
    },
    {
      "cell_type": "code",
      "execution_count": null,
      "metadata": {
        "colab": {
          "base_uri": "https://localhost:8080/"
        },
        "id": "EB7L39v4ETZ4",
        "outputId": "d86284c4-975e-4b61-9211-609b0919fc4a"
      },
      "outputs": [
        {
          "data": {
            "text/plain": [
              "Price       float64\n",
              "Mileage       int64\n",
              "Make         object\n",
              "Model        object\n",
              "Trim         object\n",
              "Type         object\n",
              "Cylinder      int64\n",
              "Liter       float64\n",
              "Doors         int64\n",
              "Cruise        int64\n",
              "Sound         int64\n",
              "Leather       int64\n",
              "dtype: object"
            ]
          },
          "execution_count": 4,
          "metadata": {},
          "output_type": "execute_result"
        }
      ],
      "source": [
        "df.dtypes"
      ]
    },
    {
      "cell_type": "code",
      "execution_count": null,
      "metadata": {
        "colab": {
          "base_uri": "https://localhost:8080/",
          "height": 206
        },
        "id": "vod70mRrETbc",
        "outputId": "41a84576-f275-45f6-c06f-59df411b4dc7"
      },
      "outputs": [
        {
          "data": {
            "text/html": [
              "\n",
              "  <div id=\"df-513fd7c6-17a9-4865-b351-b857fa6a4df8\">\n",
              "    <div class=\"colab-df-container\">\n",
              "      <div>\n",
              "<style scoped>\n",
              "    .dataframe tbody tr th:only-of-type {\n",
              "        vertical-align: middle;\n",
              "    }\n",
              "\n",
              "    .dataframe tbody tr th {\n",
              "        vertical-align: top;\n",
              "    }\n",
              "\n",
              "    .dataframe thead th {\n",
              "        text-align: right;\n",
              "    }\n",
              "</style>\n",
              "<table border=\"1\" class=\"dataframe\">\n",
              "  <thead>\n",
              "    <tr style=\"text-align: right;\">\n",
              "      <th></th>\n",
              "      <th>Price</th>\n",
              "      <th>Mileage</th>\n",
              "      <th>Make</th>\n",
              "      <th>Model</th>\n",
              "      <th>Trim</th>\n",
              "      <th>Type</th>\n",
              "      <th>Cylinder</th>\n",
              "      <th>Liter</th>\n",
              "      <th>Doors</th>\n",
              "      <th>Cruise</th>\n",
              "      <th>Sound</th>\n",
              "      <th>Leather</th>\n",
              "    </tr>\n",
              "  </thead>\n",
              "  <tbody>\n",
              "    <tr>\n",
              "      <th>0</th>\n",
              "      <td>17314.103129</td>\n",
              "      <td>8221</td>\n",
              "      <td>Buick</td>\n",
              "      <td>Century</td>\n",
              "      <td>Sedan 4D</td>\n",
              "      <td>Sedan</td>\n",
              "      <td>6</td>\n",
              "      <td>3.1</td>\n",
              "      <td>4</td>\n",
              "      <td>1</td>\n",
              "      <td>1</td>\n",
              "      <td>1</td>\n",
              "    </tr>\n",
              "    <tr>\n",
              "      <th>1</th>\n",
              "      <td>17542.036083</td>\n",
              "      <td>9135</td>\n",
              "      <td>Buick</td>\n",
              "      <td>Century</td>\n",
              "      <td>Sedan 4D</td>\n",
              "      <td>Sedan</td>\n",
              "      <td>6</td>\n",
              "      <td>3.1</td>\n",
              "      <td>4</td>\n",
              "      <td>1</td>\n",
              "      <td>1</td>\n",
              "      <td>0</td>\n",
              "    </tr>\n",
              "    <tr>\n",
              "      <th>2</th>\n",
              "      <td>16218.847862</td>\n",
              "      <td>13196</td>\n",
              "      <td>Buick</td>\n",
              "      <td>Century</td>\n",
              "      <td>Sedan 4D</td>\n",
              "      <td>Sedan</td>\n",
              "      <td>6</td>\n",
              "      <td>3.1</td>\n",
              "      <td>4</td>\n",
              "      <td>1</td>\n",
              "      <td>1</td>\n",
              "      <td>0</td>\n",
              "    </tr>\n",
              "    <tr>\n",
              "      <th>3</th>\n",
              "      <td>16336.913140</td>\n",
              "      <td>16342</td>\n",
              "      <td>Buick</td>\n",
              "      <td>Century</td>\n",
              "      <td>Sedan 4D</td>\n",
              "      <td>Sedan</td>\n",
              "      <td>6</td>\n",
              "      <td>3.1</td>\n",
              "      <td>4</td>\n",
              "      <td>1</td>\n",
              "      <td>0</td>\n",
              "      <td>0</td>\n",
              "    </tr>\n",
              "    <tr>\n",
              "      <th>4</th>\n",
              "      <td>16339.170324</td>\n",
              "      <td>19832</td>\n",
              "      <td>Buick</td>\n",
              "      <td>Century</td>\n",
              "      <td>Sedan 4D</td>\n",
              "      <td>Sedan</td>\n",
              "      <td>6</td>\n",
              "      <td>3.1</td>\n",
              "      <td>4</td>\n",
              "      <td>1</td>\n",
              "      <td>0</td>\n",
              "      <td>1</td>\n",
              "    </tr>\n",
              "  </tbody>\n",
              "</table>\n",
              "</div>\n",
              "      <button class=\"colab-df-convert\" onclick=\"convertToInteractive('df-513fd7c6-17a9-4865-b351-b857fa6a4df8')\"\n",
              "              title=\"Convert this dataframe to an interactive table.\"\n",
              "              style=\"display:none;\">\n",
              "        \n",
              "  <svg xmlns=\"http://www.w3.org/2000/svg\" height=\"24px\"viewBox=\"0 0 24 24\"\n",
              "       width=\"24px\">\n",
              "    <path d=\"M0 0h24v24H0V0z\" fill=\"none\"/>\n",
              "    <path d=\"M18.56 5.44l.94 2.06.94-2.06 2.06-.94-2.06-.94-.94-2.06-.94 2.06-2.06.94zm-11 1L8.5 8.5l.94-2.06 2.06-.94-2.06-.94L8.5 2.5l-.94 2.06-2.06.94zm10 10l.94 2.06.94-2.06 2.06-.94-2.06-.94-.94-2.06-.94 2.06-2.06.94z\"/><path d=\"M17.41 7.96l-1.37-1.37c-.4-.4-.92-.59-1.43-.59-.52 0-1.04.2-1.43.59L10.3 9.45l-7.72 7.72c-.78.78-.78 2.05 0 2.83L4 21.41c.39.39.9.59 1.41.59.51 0 1.02-.2 1.41-.59l7.78-7.78 2.81-2.81c.8-.78.8-2.07 0-2.86zM5.41 20L4 18.59l7.72-7.72 1.47 1.35L5.41 20z\"/>\n",
              "  </svg>\n",
              "      </button>\n",
              "      \n",
              "  <style>\n",
              "    .colab-df-container {\n",
              "      display:flex;\n",
              "      flex-wrap:wrap;\n",
              "      gap: 12px;\n",
              "    }\n",
              "\n",
              "    .colab-df-convert {\n",
              "      background-color: #E8F0FE;\n",
              "      border: none;\n",
              "      border-radius: 50%;\n",
              "      cursor: pointer;\n",
              "      display: none;\n",
              "      fill: #1967D2;\n",
              "      height: 32px;\n",
              "      padding: 0 0 0 0;\n",
              "      width: 32px;\n",
              "    }\n",
              "\n",
              "    .colab-df-convert:hover {\n",
              "      background-color: #E2EBFA;\n",
              "      box-shadow: 0px 1px 2px rgba(60, 64, 67, 0.3), 0px 1px 3px 1px rgba(60, 64, 67, 0.15);\n",
              "      fill: #174EA6;\n",
              "    }\n",
              "\n",
              "    [theme=dark] .colab-df-convert {\n",
              "      background-color: #3B4455;\n",
              "      fill: #D2E3FC;\n",
              "    }\n",
              "\n",
              "    [theme=dark] .colab-df-convert:hover {\n",
              "      background-color: #434B5C;\n",
              "      box-shadow: 0px 1px 3px 1px rgba(0, 0, 0, 0.15);\n",
              "      filter: drop-shadow(0px 1px 2px rgba(0, 0, 0, 0.3));\n",
              "      fill: #FFFFFF;\n",
              "    }\n",
              "  </style>\n",
              "\n",
              "      <script>\n",
              "        const buttonEl =\n",
              "          document.querySelector('#df-513fd7c6-17a9-4865-b351-b857fa6a4df8 button.colab-df-convert');\n",
              "        buttonEl.style.display =\n",
              "          google.colab.kernel.accessAllowed ? 'block' : 'none';\n",
              "\n",
              "        async function convertToInteractive(key) {\n",
              "          const element = document.querySelector('#df-513fd7c6-17a9-4865-b351-b857fa6a4df8');\n",
              "          const dataTable =\n",
              "            await google.colab.kernel.invokeFunction('convertToInteractive',\n",
              "                                                     [key], {});\n",
              "          if (!dataTable) return;\n",
              "\n",
              "          const docLinkHtml = 'Like what you see? Visit the ' +\n",
              "            '<a target=\"_blank\" href=https://colab.research.google.com/notebooks/data_table.ipynb>data table notebook</a>'\n",
              "            + ' to learn more about interactive tables.';\n",
              "          element.innerHTML = '';\n",
              "          dataTable['output_type'] = 'display_data';\n",
              "          await google.colab.output.renderOutput(dataTable, element);\n",
              "          const docLink = document.createElement('div');\n",
              "          docLink.innerHTML = docLinkHtml;\n",
              "          element.appendChild(docLink);\n",
              "        }\n",
              "      </script>\n",
              "    </div>\n",
              "  </div>\n",
              "  "
            ],
            "text/plain": [
              "          Price  Mileage   Make    Model      Trim   Type  Cylinder  Liter  \\\n",
              "0  17314.103129     8221  Buick  Century  Sedan 4D  Sedan         6    3.1   \n",
              "1  17542.036083     9135  Buick  Century  Sedan 4D  Sedan         6    3.1   \n",
              "2  16218.847862    13196  Buick  Century  Sedan 4D  Sedan         6    3.1   \n",
              "3  16336.913140    16342  Buick  Century  Sedan 4D  Sedan         6    3.1   \n",
              "4  16339.170324    19832  Buick  Century  Sedan 4D  Sedan         6    3.1   \n",
              "\n",
              "   Doors  Cruise  Sound  Leather  \n",
              "0      4       1      1        1  \n",
              "1      4       1      1        0  \n",
              "2      4       1      1        0  \n",
              "3      4       1      0        0  \n",
              "4      4       1      0        1  "
            ]
          },
          "execution_count": 8,
          "metadata": {},
          "output_type": "execute_result"
        }
      ],
      "source": [
        "df.head()"
      ]
    },
    {
      "cell_type": "markdown",
      "metadata": {
        "id": "FMemAu3XTg0y"
      },
      "source": [
        "## Tasks, Part 1\n",
        "\n",
        "1. Find the linear regression equation for mileage vs price.\n",
        "2. Chart the original data and the equation on the chart.\n",
        "3. Find the equation's $R^2$ score (use the `.score` method) to determine whether the\n",
        "equation is a good fit for this data. (0.8 and greater is considered a strong correlation.)"
      ]
    },
    {
      "cell_type": "code",
      "execution_count": null,
      "metadata": {
        "colab": {
          "base_uri": "https://localhost:8080/"
        },
        "id": "UdpRdMKtFBGm",
        "outputId": "7b2d3d3b-6329-4985-adaf-cd000078caa5"
      },
      "outputs": [
        {
          "name": "stdout",
          "output_type": "stream",
          "text": [
            "Linear Regression Equation: y = -0.21301329854777273 * x + 25202.601200854155\n"
          ]
        }
      ],
      "source": [
        "X=df[[\"Mileage\"]]\n",
        "y=df[\"Price\"]\n",
        "\n",
        "X_train, X_test, y_train, y_test = train_test_split(X, y, test_size=0.25)#,random_state=2)\n",
        "\n",
        "reg1 = LinearRegression()\n",
        "reg1.fit(X_train,y_train)\n",
        "\n",
        "m=reg1.coef_[0]\n",
        "c=reg1.intercept_\n",
        "\n",
        "print(\"Linear Regression Equation: y = {} * x + {}\".format(m,c))\n",
        "\n",
        "y_pred=reg1.predict(X_test)"
      ]
    },
    {
      "cell_type": "code",
      "execution_count": null,
      "metadata": {
        "colab": {
          "base_uri": "https://localhost:8080/"
        },
        "id": "wZ-Z2gYuSXQt",
        "outputId": "e764a17f-9a75-4c64-a0e4-3e980fb76a87"
      },
      "outputs": [
        {
          "name": "stdout",
          "output_type": "stream",
          "text": [
            "R2- SCORE: -0.03958040137554386\n"
          ]
        }
      ],
      "source": [
        "print('R2- SCORE:', reg1.score(X_test,y_test))"
      ]
    },
    {
      "cell_type": "code",
      "execution_count": null,
      "metadata": {
        "colab": {
          "base_uri": "https://localhost:8080/"
        },
        "id": "W1g96wuzFBAs",
        "outputId": "b2b4ea4c-d7a6-4c09-c60b-505ad5b0ebd2"
      },
      "outputs": [
        {
          "name": "stdout",
          "output_type": "stream",
          "text": [
            "R2- SCORE: 0.03207489608893954\n"
          ]
        }
      ],
      "source": [
        "print('R2- SCORE:', metrics.r2_score(y_test,y_pred))"
      ]
    },
    {
      "cell_type": "code",
      "execution_count": null,
      "metadata": {
        "colab": {
          "base_uri": "https://localhost:8080/",
          "height": 312
        },
        "id": "vBuB9lWHFBCQ",
        "outputId": "16ec6e97-4b5e-49f8-efef-6923f7a3d7a2"
      },
      "outputs": [
        {
          "data": {
            "text/plain": [
              "Text(0, 0.5, 'Price')"
            ]
          },
          "execution_count": 9,
          "metadata": {},
          "output_type": "execute_result"
        },
        {
          "data": {
            "image/png": "[encoded data removed]",
            "text/plain": [
              "<Figure size 432x288 with 1 Axes>"
            ]
          },
          "metadata": {},
          "output_type": "display_data"
        }
      ],
      "source": [
        "plt.scatter(X,y, color=\"blue\")\n",
        "plt.plot(X, reg1.predict(X), color=\"black\", linewidth=2)\n",
        "plt.title('Milage v/s Price')\n",
        "plt.xlabel('Milage')\n",
        "plt.ylabel('Price')"
      ]
    },
    {
      "cell_type": "markdown",
      "metadata": {
        "id": "9GXCXoMva2__"
      },
      "source": [
        "## Tasks, Part 2\n",
        "\n",
        "1. Use mileage, cylinders, liters, doors, cruise, sound, and leather to find the linear regression equation.\n",
        "2. Find the equation's $R^2$ score (use the `.score` method) to determine whether the\n",
        "equation is a good fit for this data. (0.8 and greater is considered a strong correlation.)\n",
        "3. Find the combination of the factors that is the best predictor for price.\n",
        "\n"
      ]
    },
    {
      "cell_type": "code",
      "execution_count": null,
      "metadata": {
        "colab": {
          "base_uri": "https://localhost:8080/"
        },
        "id": "IK3xdpwda2vH",
        "outputId": "8b78967a-c6f0-445d-f4ab-1d29c008ca0d"
      },
      "outputs": [
        {
          "output_type": "stream",
          "name": "stdout",
          "text": [
            "R2  score : 0.3620403848808583\n"
          ]
        }
      ],
      "source": [
        "X=df[[\"Mileage\", \"Cylinder\", \"Liter\", \"Doors\", \"Cruise\", \"Sound\", \"Leather\"]]\n",
        "y=df[\"Price\"]\n",
        "\n",
        "X_train, X_test, y_train, y_test = train_test_split(X, y, test_size=0.25)#,random_state=2)\n",
        "\n",
        "reg2 = LinearRegression()\n",
        "reg2.fit(X_train,y_train)\n",
        "\n",
        "scores=cross_val_score(reg2,X_train,y_train,cv=10)\n",
        "\n",
        "print(\"R2  score :\", np.mean(scores))\n",
        "#y_pred=reg2.predict(X_test)"
      ]
    },
    {
      "cell_type": "markdown",
      "metadata": {
        "id": "eVHsjlPd_blv"
      },
      "source": [
        "Here the $R^2$ score is considerably less compared to 0.8. Hence this equation is not a good fit for the data."
      ]
    },
    {
      "cell_type": "code",
      "execution_count": null,
      "metadata": {
        "colab": {
          "base_uri": "https://localhost:8080/"
        },
        "id": "o3xACQ-Vb2-z",
        "outputId": "041dd9d6-d2d0-4514-c952-45ec1f62ed1b"
      },
      "outputs": [
        {
          "name": "stdout",
          "output_type": "stream",
          "text": [
            "Coeffs : -0.16391438763615665 3015.493053241059 -96.83650914040447 -1365.8824721506144 6318.414307128537 -2211.2000811454477 3544.067009843183\n",
            "Intercept : 7828.497153477103\n"
          ]
        }
      ],
      "source": [
        "m=reg2.coef_\n",
        "c=reg2.intercept_\n",
        "print(\"Coeffs :\",*m)\n",
        "print(\"Intercept :\",c)"
      ]
    },
    {
      "cell_type": "code",
      "execution_count": null,
      "metadata": {
        "colab": {
          "base_uri": "https://localhost:8080/"
        },
        "id": "7O4SSTqHcJ8Q",
        "outputId": "d80ad1e2-d382-4d8c-8f9e-030b19f38bd1"
      },
      "outputs": [
        {
          "name": "stdout",
          "output_type": "stream",
          "text": [
            "R2  score : 0.4890122612883816\n"
          ]
        }
      ],
      "source": [
        "#print(\"R2  score :\",  reg2.score(X_test,y_test))"
      ]
    },
    {
      "cell_type": "markdown",
      "source": [
        "3. Find the combination of the factors that is the best predictor for price.\n"
      ],
      "metadata": {
        "id": "jRwbonkwg25f"
      }
    },
    {
      "cell_type": "code",
      "execution_count": null,
      "metadata": {
        "colab": {
          "base_uri": "https://localhost:8080/"
        },
        "id": "RUHUYFlddA90",
        "outputId": "9c50595e-0da9-42e6-ac3e-88f3a539486b"
      },
      "outputs": [
        {
          "name": "stdout",
          "output_type": "stream",
          "text": [
            "The highest R2 score is for combinaton  ['Mileage', 'Cylinder', 'Doors', 'Cruise', 'Sound'] with a score of  0.4234393407664626\n"
          ]
        }
      ],
      "source": [
        "import itertools\n",
        "from sklearn.model_selection import cross_val_score\n",
        "\n",
        "features=[\"Mileage\", \"Cylinder\", \"Liter\", \"Doors\", \"Cruise\", \"Sound\", \"Leather\"]\n",
        "\n",
        "#r2={}\n",
        "max=0\n",
        "l=[]\n",
        "\n",
        "for feature in range(0, len(features)+1):\n",
        "    for comb in itertools.combinations(features, feature): #Gives us all combination of features\n",
        "        if (len(comb)>0): # To remove the combination which does not contain any features\n",
        "            X=df[list(comb)]\n",
        "            \n",
        "            y= df[\"Price\"]\n",
        "\n",
        "            X_train, X_test, y_train, y_test = train_test_split(X, y, test_size=0.25)#, random_state=5)\n",
        "\n",
        "            regressor = LinearRegression() \n",
        "            regressor.fit(X_train,y_train)\n",
        "\n",
        "            scores=cross_val_score(regressor,X_train,y_train,cv=10)\n",
        "           \n",
        "            #print('R2-SCORE for',comb,\"is :\", metrics.r2_score(y_test,y_pred))\n",
        "\n",
        "            if(np.mean(scores)>max):\n",
        "                max=np.mean(scores)\n",
        "                l=list(comb)\n",
        "\n",
        "\n",
        "#print(r2)\n",
        "print(\"The highest R2 score is for combinaton \",l,\"with a score of \", max) "
      ]
    },
    {
      "cell_type": "code",
      "execution_count": null,
      "metadata": {
        "id": "tuYF3IBkAKfU"
      },
      "outputs": [],
      "source": [
        ""
      ]
    },
    {
      "cell_type": "markdown",
      "metadata": {
        "id": "WXNXrP426CK-"
      },
      "source": [
        "## Tasks, Hard Mode\n",
        "\n",
        "1. Research dummy variables in scikit-learn to see how to use the make, model, and body type.\n",
        "2. Find the best combination of factors to predict price."
      ]
    },
    {
      "cell_type": "code",
      "execution_count": 4,
      "metadata": {
        "colab": {
          "base_uri": "https://localhost:8080/",
          "height": 551
        },
        "id": "SXIy4m9ljID3",
        "outputId": "c472f985-c26a-4463-c49c-253919905905"
      },
      "outputs": [
        {
          "output_type": "execute_result",
          "data": {
            "text/plain": [
              "                              Price\n",
              "Make      Type                     \n",
              "Buick     Sedan        20815.113883\n",
              "Cadillac  Convertible  62938.736572\n",
              "          Sedan        37793.135287\n",
              "Chevrolet Convertible  41501.592957\n",
              "          Coupe        17933.203409\n",
              "          Hatchback    14170.927809\n",
              "          Sedan        14859.824290\n",
              "Pontiac   Coupe        19317.108812\n",
              "          Sedan        18954.002401\n",
              "          Wagon        15881.386094\n",
              "SAAB      Convertible  33239.399902\n",
              "          Sedan        27573.284345\n",
              "          Wagon        29016.179999\n",
              "Saturn    Coupe        14413.444263\n",
              "          Sedan        13761.489209"
            ],
            "text/html": [
              "\n",
              "  <div id=\"df-4b244153-f3dc-4ba8-82cb-e10b991b2d16\">\n",
              "    <div class=\"colab-df-container\">\n",
              "      <div>\n",
              "<style scoped>\n",
              "    .dataframe tbody tr th:only-of-type {\n",
              "        vertical-align: middle;\n",
              "    }\n",
              "\n",
              "    .dataframe tbody tr th {\n",
              "        vertical-align: top;\n",
              "    }\n",
              "\n",
              "    .dataframe thead th {\n",
              "        text-align: right;\n",
              "    }\n",
              "</style>\n",
              "<table border=\"1\" class=\"dataframe\">\n",
              "  <thead>\n",
              "    <tr style=\"text-align: right;\">\n",
              "      <th></th>\n",
              "      <th></th>\n",
              "      <th>Price</th>\n",
              "    </tr>\n",
              "    <tr>\n",
              "      <th>Make</th>\n",
              "      <th>Type</th>\n",
              "      <th></th>\n",
              "    </tr>\n",
              "  </thead>\n",
              "  <tbody>\n",
              "    <tr>\n",
              "      <th>Buick</th>\n",
              "      <th>Sedan</th>\n",
              "      <td>20815.113883</td>\n",
              "    </tr>\n",
              "    <tr>\n",
              "      <th rowspan=\"2\" valign=\"top\">Cadillac</th>\n",
              "      <th>Convertible</th>\n",
              "      <td>62938.736572</td>\n",
              "    </tr>\n",
              "    <tr>\n",
              "      <th>Sedan</th>\n",
              "      <td>37793.135287</td>\n",
              "    </tr>\n",
              "    <tr>\n",
              "      <th rowspan=\"4\" valign=\"top\">Chevrolet</th>\n",
              "      <th>Convertible</th>\n",
              "      <td>41501.592957</td>\n",
              "    </tr>\n",
              "    <tr>\n",
              "      <th>Coupe</th>\n",
              "      <td>17933.203409</td>\n",
              "    </tr>\n",
              "    <tr>\n",
              "      <th>Hatchback</th>\n",
              "      <td>14170.927809</td>\n",
              "    </tr>\n",
              "    <tr>\n",
              "      <th>Sedan</th>\n",
              "      <td>14859.824290</td>\n",
              "    </tr>\n",
              "    <tr>\n",
              "      <th rowspan=\"3\" valign=\"top\">Pontiac</th>\n",
              "      <th>Coupe</th>\n",
              "      <td>19317.108812</td>\n",
              "    </tr>\n",
              "    <tr>\n",
              "      <th>Sedan</th>\n",
              "      <td>18954.002401</td>\n",
              "    </tr>\n",
              "    <tr>\n",
              "      <th>Wagon</th>\n",
              "      <td>15881.386094</td>\n",
              "    </tr>\n",
              "    <tr>\n",
              "      <th rowspan=\"3\" valign=\"top\">SAAB</th>\n",
              "      <th>Convertible</th>\n",
              "      <td>33239.399902</td>\n",
              "    </tr>\n",
              "    <tr>\n",
              "      <th>Sedan</th>\n",
              "      <td>27573.284345</td>\n",
              "    </tr>\n",
              "    <tr>\n",
              "      <th>Wagon</th>\n",
              "      <td>29016.179999</td>\n",
              "    </tr>\n",
              "    <tr>\n",
              "      <th rowspan=\"2\" valign=\"top\">Saturn</th>\n",
              "      <th>Coupe</th>\n",
              "      <td>14413.444263</td>\n",
              "    </tr>\n",
              "    <tr>\n",
              "      <th>Sedan</th>\n",
              "      <td>13761.489209</td>\n",
              "    </tr>\n",
              "  </tbody>\n",
              "</table>\n",
              "</div>\n",
              "      <button class=\"colab-df-convert\" onclick=\"convertToInteractive('df-4b244153-f3dc-4ba8-82cb-e10b991b2d16')\"\n",
              "              title=\"Convert this dataframe to an interactive table.\"\n",
              "              style=\"display:none;\">\n",
              "        \n",
              "  <svg xmlns=\"http://www.w3.org/2000/svg\" height=\"24px\"viewBox=\"0 0 24 24\"\n",
              "       width=\"24px\">\n",
              "    <path d=\"M0 0h24v24H0V0z\" fill=\"none\"/>\n",
              "    <path d=\"M18.56 5.44l.94 2.06.94-2.06 2.06-.94-2.06-.94-.94-2.06-.94 2.06-2.06.94zm-11 1L8.5 8.5l.94-2.06 2.06-.94-2.06-.94L8.5 2.5l-.94 2.06-2.06.94zm10 10l.94 2.06.94-2.06 2.06-.94-2.06-.94-.94-2.06-.94 2.06-2.06.94z\"/><path d=\"M17.41 7.96l-1.37-1.37c-.4-.4-.92-.59-1.43-.59-.52 0-1.04.2-1.43.59L10.3 9.45l-7.72 7.72c-.78.78-.78 2.05 0 2.83L4 21.41c.39.39.9.59 1.41.59.51 0 1.02-.2 1.41-.59l7.78-7.78 2.81-2.81c.8-.78.8-2.07 0-2.86zM5.41 20L4 18.59l7.72-7.72 1.47 1.35L5.41 20z\"/>\n",
              "  </svg>\n",
              "      </button>\n",
              "      \n",
              "  <style>\n",
              "    .colab-df-container {\n",
              "      display:flex;\n",
              "      flex-wrap:wrap;\n",
              "      gap: 12px;\n",
              "    }\n",
              "\n",
              "    .colab-df-convert {\n",
              "      background-color: #E8F0FE;\n",
              "      border: none;\n",
              "      border-radius: 50%;\n",
              "      cursor: pointer;\n",
              "      display: none;\n",
              "      fill: #1967D2;\n",
              "      height: 32px;\n",
              "      padding: 0 0 0 0;\n",
              "      width: 32px;\n",
              "    }\n",
              "\n",
              "    .colab-df-convert:hover {\n",
              "      background-color: #E2EBFA;\n",
              "      box-shadow: 0px 1px 2px rgba(60, 64, 67, 0.3), 0px 1px 3px 1px rgba(60, 64, 67, 0.15);\n",
              "      fill: #174EA6;\n",
              "    }\n",
              "\n",
              "    [theme=dark] .colab-df-convert {\n",
              "      background-color: #3B4455;\n",
              "      fill: #D2E3FC;\n",
              "    }\n",
              "\n",
              "    [theme=dark] .colab-df-convert:hover {\n",
              "      background-color: #434B5C;\n",
              "      box-shadow: 0px 1px 3px 1px rgba(0, 0, 0, 0.15);\n",
              "      filter: drop-shadow(0px 1px 2px rgba(0, 0, 0, 0.3));\n",
              "      fill: #FFFFFF;\n",
              "    }\n",
              "  </style>\n",
              "\n",
              "      <script>\n",
              "        const buttonEl =\n",
              "          document.querySelector('#df-4b244153-f3dc-4ba8-82cb-e10b991b2d16 button.colab-df-convert');\n",
              "        buttonEl.style.display =\n",
              "          google.colab.kernel.accessAllowed ? 'block' : 'none';\n",
              "\n",
              "        async function convertToInteractive(key) {\n",
              "          const element = document.querySelector('#df-4b244153-f3dc-4ba8-82cb-e10b991b2d16');\n",
              "          const dataTable =\n",
              "            await google.colab.kernel.invokeFunction('convertToInteractive',\n",
              "                                                     [key], {});\n",
              "          if (!dataTable) return;\n",
              "\n",
              "          const docLinkHtml = 'Like what you see? Visit the ' +\n",
              "            '<a target=\"_blank\" href=https://colab.research.google.com/notebooks/data_table.ipynb>data table notebook</a>'\n",
              "            + ' to learn more about interactive tables.';\n",
              "          element.innerHTML = '';\n",
              "          dataTable['output_type'] = 'display_data';\n",
              "          await google.colab.output.renderOutput(dataTable, element);\n",
              "          const docLink = document.createElement('div');\n",
              "          docLink.innerHTML = docLinkHtml;\n",
              "          element.appendChild(docLink);\n",
              "        }\n",
              "      </script>\n",
              "    </div>\n",
              "  </div>\n",
              "  "
            ]
          },
          "metadata": {},
          "execution_count": 4
        }
      ],
      "source": [
        "df_test=df[[\"Make\",\"Model\",\"Type\",\"Price\"]]\n",
        "df_grp=df_test.groupby([\"Make\",\"Type\"]).mean()\n",
        "df_grp"
      ]
    },
    {
      "cell_type": "markdown",
      "metadata": {
        "id": "12oDiklrxfqW"
      },
      "source": [
        "Groupby based in the models and get average price. Plot in sorted manner."
      ]
    },
    {
      "cell_type": "code",
      "execution_count": 20,
      "metadata": {
        "id": "kWiQOgTEi7XW"
      },
      "outputs": [],
      "source": [
        "df2 = pd.get_dummies(df, columns=[\"Make\",\"Type\"],drop_first=True)\n",
        "df2.drop([\"Trim\"],axis=1,inplace=True)"
      ]
    },
    {
      "cell_type": "code",
      "source": [
        "df_test=df[[\"Model\",\"Price\"]]\n",
        "df_grp=df_test.groupby([\"Model\"]).mean()\n",
        "#df_grp.reset_index()\n",
        "df_grp.sort_values(by=['Price'],inplace=True,ascending=True)\n",
        "\n",
        "ax=df_grp.plot.bar()\n",
        "ax.set(ylabel=\"Price\")\n"
      ],
      "metadata": {
        "colab": {
          "base_uri": "https://localhost:8080/",
          "height": 348
        },
        "id": "sAEnbkSEzO4b",
        "outputId": "ee83e4bd-4d78-43a6-e189-4e4985d4fe7d"
      },
      "execution_count": null,
      "outputs": [
        {
          "output_type": "execute_result",
          "data": {
            "text/plain": [
              "[Text(0, 0.5, 'Price')]"
            ]
          },
          "metadata": {},
          "execution_count": 76
        },
        {
          "output_type": "display_data",
          "data": {
            "text/plain": [
              "<Figure size 432x288 with 1 Axes>"
            ],
            "image/png": "[encoded data removed]"
          },
          "metadata": {
            "needs_background": "light"
          }
        }
      ]
    },
    {
      "cell_type": "markdown",
      "source": [
        "Since there is a linear trend here between Models and price we can labe encode them. Getting dummy variable for 'Model' feature by one-hot encoding will add 32 more coloumns/dimension to our dataset. This can be avoided by label encoding as there is clearly an order visible here"
      ],
      "metadata": {
        "id": "2HCM1SZV__Cx"
      }
    },
    {
      "cell_type": "code",
      "source": [
        "df[\"Model\"].unique()"
      ],
      "metadata": {
        "id": "Wp0YXRTq2Tyw",
        "colab": {
          "base_uri": "https://localhost:8080/"
        },
        "outputId": "9787d632-ce18-4570-ee4f-6a9bec50d9a9"
      },
      "execution_count": 5,
      "outputs": [
        {
          "output_type": "execute_result",
          "data": {
            "text/plain": [
              "array(['Century', 'Lacrosse', 'Lesabre', 'Park Avenue', 'CST-V', 'CTS',\n",
              "       'Deville', 'STS-V6', 'STS-V8', 'XLR-V8', 'AVEO', 'Cavalier',\n",
              "       'Classic', 'Cobalt', 'Corvette', 'Impala', 'Malibu', 'Monte Carlo',\n",
              "       'Bonneville', 'G6', 'Grand Am', 'Grand Prix', 'GTO', 'Sunfire',\n",
              "       'Vibe', '9_3', '9_3 HO', '9_5', '9_5 HO', '9-2X AWD', 'Ion',\n",
              "       'L Series'], dtype=object)"
            ]
          },
          "metadata": {},
          "execution_count": 5
        }
      ]
    },
    {
      "cell_type": "code",
      "source": [
        "#Label Encoding\n",
        "df2[\"Model\"] = df2[\"Model\"].replace({'AVEO':0,\n",
        "                                     'Sunfire':1,\n",
        "                                     'Century':8,\n",
        "                                     'Lacrosse':17, \n",
        "                                     'Lesabre':12, \n",
        "                                     'Park Avenue':18, \n",
        "                                     'CST-V':30,\n",
        "                                     'CTS':25,\n",
        "                                     'Deville':26,\n",
        "                                     'STS-V6':27,\n",
        "                                     'STS-V8':29,\n",
        "                                     'XLR-V8':31,                                     \n",
        "                                     'Cavalier':2,\n",
        "                                     'Classic':4,\n",
        "                                     'Cobalt':5,\n",
        "                                     'Corvette':28,\n",
        "                                     'Impala':15,\n",
        "                                     'Malibu':10, \n",
        "                                     'Monte Carlo':14,\n",
        "                                     'Bonneville':16,\n",
        "                                     'G6':13,\n",
        "                                     'Grand Am':6,\n",
        "                                     'Grand Prix':11,\n",
        "                                     'GTO':22,                                     \n",
        "                                     'Vibe':7,\n",
        "                                     '9_3':21,\n",
        "                                     '9_3 HO':24,\n",
        "                                     '9_5':23,\n",
        "                                     '9_5 HO':20,\n",
        "                                     '9-2X AWD':19,\n",
        "                                     'Ion':3,\n",
        "                                     'L Series':9})\n"
      ],
      "metadata": {
        "id": "-ucFn7HR1EQ8"
      },
      "execution_count": 22,
      "outputs": []
    },
    {
      "cell_type": "code",
      "source": [
        "target=\"Price\"\n",
        "X = df2.drop(target,axis=1) \n",
        "#y = df2[target]\n"
      ],
      "metadata": {
        "id": "XjP7euusLqdZ"
      },
      "execution_count": 27,
      "outputs": []
    },
    {
      "cell_type": "markdown",
      "source": [
        "Scince there are 16 features to be dealt with now. We have to look at $2^{16}$ combination of features now. This would therefore be a really time consuming process."
      ],
      "metadata": {
        "id": "s9T3P0i7t-MQ"
      }
    },
    {
      "cell_type": "code",
      "source": [
        "list(X)"
      ],
      "metadata": {
        "colab": {
          "base_uri": "https://localhost:8080/"
        },
        "id": "MGPys2Kf2zQy",
        "outputId": "23cc7a43-4a7a-4e5a-849c-749aca558843"
      },
      "execution_count": 25,
      "outputs": [
        {
          "output_type": "execute_result",
          "data": {
            "text/plain": [
              "['Mileage',\n",
              " 'Model',\n",
              " 'Cylinder',\n",
              " 'Liter',\n",
              " 'Doors',\n",
              " 'Cruise',\n",
              " 'Sound',\n",
              " 'Leather',\n",
              " 'Make_Cadillac',\n",
              " 'Make_Chevrolet',\n",
              " 'Make_Pontiac',\n",
              " 'Make_SAAB',\n",
              " 'Make_Saturn',\n",
              " 'Type_Coupe',\n",
              " 'Type_Hatchback',\n",
              " 'Type_Sedan',\n",
              " 'Type_Wagon']"
            ]
          },
          "metadata": {},
          "execution_count": 25
        }
      ]
    },
    {
      "cell_type": "code",
      "execution_count": 26,
      "metadata": {
        "id": "Rv_0Eyyb6Uq5",
        "colab": {
          "base_uri": "https://localhost:8080/"
        },
        "outputId": "1633d668-1184-4d87-bd15-4d70ebcc7959"
      },
      "outputs": [
        {
          "output_type": "stream",
          "name": "stdout",
          "text": [
            "The highest R2 score is for combinaton  ['Mileage', 'Model', 'Cylinder', 'Liter', 'Doors', 'Sound', 'Leather', 'Make_Cadillac', 'Make_Chevrolet', 'Make_SAAB', 'Make_Saturn', 'Type_Coupe', 'Type_Wagon'] with a score of  0.9425921727516677\n"
          ]
        }
      ],
      "source": [
        "import itertools\n",
        "#from sklearn.model_selection import cross_val_score\n",
        "\n",
        "#features=[\"Mileage\", \"Cylinder\", \"Liter\", \"Doors\", \"Cruise\", \"Sound\", \"Leather\"]\n",
        "features=list(X)\n",
        "\n",
        "#r2={}\n",
        "max=0\n",
        "l=[]\n",
        "\n",
        "for feature in range(0, len(features)+1):\n",
        "    for comb in itertools.combinations(features, feature): #Gives us all combination of features\n",
        "        if (len(comb)>0): # To remove the combination which does not contain any features\n",
        "            X=df2[list(comb)]\n",
        "            \n",
        "            y= df[\"Price\"]\n",
        "\n",
        "            X_train, X_test, y_train, y_test = train_test_split(X, y, test_size=0.3, random_state=5)\n",
        "\n",
        "            regressor = LinearRegression() \n",
        "            regressor.fit(X_train,y_train)\n",
        "\n",
        "            # scores=cross_val_score(regressor,X_train,y_train,cv=10)\n",
        "            # print(np.mean(scores))\n",
        "            # print(scores.mean())\n",
        "\n",
        "            y_pred = regressor.predict(X_test)\n",
        "\n",
        "            #r2[(comb)]=metrics.r2_score(y_test,y_pred)\n",
        "            #print('R2-SCORE for',comb,\"is :\", metrics.r2_score(y_test,y_pred))\n",
        "\n",
        "            if(metrics.r2_score(y_test,y_pred)>max):\n",
        "                max=metrics.r2_score(y_test,y_pred)\n",
        "                l=list(comb)\n",
        "\n",
        "\n",
        "#print(r2)\n",
        "print(\"The highest R2 score is for combinaton \",l,\"with a score of \", max) "
      ]
    },
    {
      "cell_type": "markdown",
      "source": [
        "['Mileage', 'Model', 'Cylinder', 'Liter', 'Doors', 'Sound', 'Leather', 'Make_Cadillac', 'Make_Chevrolet', 'Make_SAAB', 'Make_Saturn', 'Type_Coupe', 'Type_Wagon'] is the best combinarion of features which yielded a $R^2$ score of 0.942"
      ],
      "metadata": {
        "id": "Bq-xSxRzAo95"
      }
    }
  ],
  "metadata": {
    "colab": {
      "name": "Assignment8_Deepu.ipynb",
      "provenance": [],
      "include_colab_link": true
    },
    "kernelspec": {
      "display_name": "Python 3",
      "language": "python",
      "name": "python3"
    },
    "language_info": {
      "codemirror_mode": {
        "name": "ipython",
        "version": 3
      },
      "file_extension": ".py",
      "mimetype": "text/x-python",
      "name": "python",
      "nbconvert_exporter": "python",
      "pygments_lexer": "ipython3",
      "version": "3.8.3"
    }
  },
  "nbformat": 4,
  "nbformat_minor": 0
}